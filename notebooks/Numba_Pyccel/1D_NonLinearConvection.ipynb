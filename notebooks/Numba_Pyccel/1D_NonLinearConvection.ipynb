{
  "nbformat": 4,
  "nbformat_minor": 0,
  "metadata": {
    "kernelspec": {
      "display_name": "Python 3",
      "language": "python",
      "name": "python3"
    },
    "language_info": {
      "codemirror_mode": {
        "name": "ipython",
        "version": 3
      },
      "file_extension": ".py",
      "mimetype": "text/x-python",
      "name": "python",
      "nbconvert_exporter": "python",
      "pygments_lexer": "ipython3",
      "version": "3.7.4"
    },
    "colab": {
      "name": "1D_NonLinearConvection.ipynb",
      "provenance": []
    }
  },
  "cells": [
    {
      "cell_type": "markdown",
      "metadata": {
        "id": "CSes0wx13diQ"
      },
      "source": [
        "## Imports"
      ]
    },
    {
      "cell_type": "code",
      "metadata": {
        "id": "0ql3SeA434tn",
        "outputId": "5d8a322f-2f35-4758-bb5d-ccbdf094146b",
        "colab": {
          "base_uri": "https://localhost:8080/"
        }
      },
      "source": [
        "!pip install pyccel"
      ],
      "execution_count": 3,
      "outputs": [
        {
          "output_type": "stream",
          "text": [
            "Collecting pyccel\n",
            "\u001b[?25l  Downloading https://files.pythonhosted.org/packages/9d/0d/c3d5fd4e81c17c9f2b7b5723d5bfc67b01ec03d1e416bb3a49812033289e/pyccel-1.2.1-py3-none-any.whl (273kB)\n",
            "\r\u001b[K     |█▏                              | 10kB 16.3MB/s eta 0:00:01\r\u001b[K     |██▍                             | 20kB 18.0MB/s eta 0:00:01\r\u001b[K     |███▋                            | 30kB 14.6MB/s eta 0:00:01\r\u001b[K     |████▉                           | 40kB 13.4MB/s eta 0:00:01\r\u001b[K     |██████                          | 51kB 8.9MB/s eta 0:00:01\r\u001b[K     |███████▏                        | 61kB 8.7MB/s eta 0:00:01\r\u001b[K     |████████▍                       | 71kB 9.4MB/s eta 0:00:01\r\u001b[K     |█████████▋                      | 81kB 10.4MB/s eta 0:00:01\r\u001b[K     |██████████▉                     | 92kB 9.3MB/s eta 0:00:01\r\u001b[K     |████████████                    | 102kB 8.4MB/s eta 0:00:01\r\u001b[K     |█████████████▏                  | 112kB 8.4MB/s eta 0:00:01\r\u001b[K     |██████████████▍                 | 122kB 8.4MB/s eta 0:00:01\r\u001b[K     |███████████████▋                | 133kB 8.4MB/s eta 0:00:01\r\u001b[K     |████████████████▉               | 143kB 8.4MB/s eta 0:00:01\r\u001b[K     |██████████████████              | 153kB 8.4MB/s eta 0:00:01\r\u001b[K     |███████████████████▏            | 163kB 8.4MB/s eta 0:00:01\r\u001b[K     |████████████████████▍           | 174kB 8.4MB/s eta 0:00:01\r\u001b[K     |█████████████████████▋          | 184kB 8.4MB/s eta 0:00:01\r\u001b[K     |██████████████████████▊         | 194kB 8.4MB/s eta 0:00:01\r\u001b[K     |████████████████████████        | 204kB 8.4MB/s eta 0:00:01\r\u001b[K     |█████████████████████████▏      | 215kB 8.4MB/s eta 0:00:01\r\u001b[K     |██████████████████████████▍     | 225kB 8.4MB/s eta 0:00:01\r\u001b[K     |███████████████████████████▋    | 235kB 8.4MB/s eta 0:00:01\r\u001b[K     |████████████████████████████▊   | 245kB 8.4MB/s eta 0:00:01\r\u001b[K     |██████████████████████████████  | 256kB 8.4MB/s eta 0:00:01\r\u001b[K     |███████████████████████████████▏| 266kB 8.4MB/s eta 0:00:01\r\u001b[K     |████████████████████████████████| 276kB 8.4MB/s \n",
            "\u001b[?25hRequirement already satisfied: numpy in /usr/local/lib/python3.7/dist-packages (from pyccel) (1.19.5)\n",
            "Requirement already satisfied: termcolor in /usr/local/lib/python3.7/dist-packages (from pyccel) (1.1.0)\n",
            "Requirement already satisfied: sympy>=1.2 in /usr/local/lib/python3.7/dist-packages (from pyccel) (1.7.1)\n",
            "Collecting textx>=1.6\n",
            "\u001b[?25l  Downloading https://files.pythonhosted.org/packages/1e/4d/ca516d5600744166c3e1d2f8ff8d2483cda7193c37c534710cbe073c6d44/textX-2.3.0-py2.py3-none-any.whl (72kB)\n",
            "\u001b[K     |████████████████████████████████| 81kB 6.3MB/s \n",
            "\u001b[?25hRequirement already satisfied: mpmath>=0.19 in /usr/local/lib/python3.7/dist-packages (from sympy>=1.2->pyccel) (1.2.1)\n",
            "Collecting Arpeggio>=1.9.0\n",
            "\u001b[?25l  Downloading https://files.pythonhosted.org/packages/23/53/17533fe707ee55f562138bfa5255427fa44728f5764fd95cd122fe20346b/Arpeggio-1.10.1-py2.py3-none-any.whl (54kB)\n",
            "\u001b[K     |████████████████████████████████| 61kB 6.0MB/s \n",
            "\u001b[?25hInstalling collected packages: Arpeggio, textx, pyccel\n",
            "Successfully installed Arpeggio-1.10.1 pyccel-1.2.1 textx-2.3.0\n"
          ],
          "name": "stdout"
        }
      ]
    },
    {
      "cell_type": "code",
      "metadata": {
        "id": "gpEWhHiZ3diT"
      },
      "source": [
        "import numpy as np\n",
        "import matplotlib.pyplot as plt\n",
        "import time\n",
        "\n",
        "from numba import njit\n",
        "from pyccel.epyccel import epyccel\n",
        "from pyccel.decorators import types"
      ],
      "execution_count": 4,
      "outputs": []
    },
    {
      "cell_type": "markdown",
      "metadata": {
        "id": "qu9Xcgdn3diV"
      },
      "source": [
        "## Pure python function"
      ]
    },
    {
      "cell_type": "code",
      "metadata": {
        "id": "m16ocOc_3diZ"
      },
      "source": [
        "def solve_1d_nonlinearconv_pure(u, un, nt, nx, dt, dx):\n",
        "\n",
        "    for n in range(nt):\n",
        "      un[:] = u[:]\n",
        "      for i in range(1, nx):\n",
        "        u[i] = un[i] - un[i] * dt / dx * (un[i] - un[i-1])\n",
        "\n",
        "    return 0"
      ],
      "execution_count": 59,
      "outputs": []
    },
    {
      "cell_type": "markdown",
      "metadata": {
        "id": "E4bEiUbe3dif"
      },
      "source": [
        "## Numba accelerator"
      ]
    },
    {
      "cell_type": "code",
      "metadata": {
        "id": "KdGBFmLZ3dig"
      },
      "source": [
        "@njit(fastmath=True)\n",
        "def solve_1d_nonlinearconv_numba(u, un, nt, nx, dt, dx):\n",
        "\n",
        "    for n in range(nt):\n",
        "      for i in range(nx):\n",
        "        un[i] = u[i]\n",
        "      for i in range(1, nx):\n",
        "        u[i] = un[i] - un[i] * dt / dx * (un[i] - un[i-1])\n",
        "    return 0"
      ],
      "execution_count": 60,
      "outputs": []
    },
    {
      "cell_type": "markdown",
      "metadata": {
        "id": "vNzKPVcs3dih"
      },
      "source": [
        "## Pyccel accelerator"
      ]
    },
    {
      "cell_type": "code",
      "metadata": {
        "id": "_7cCjzlc3dih"
      },
      "source": [
        "def solve_1d_nonlinearconv_pyccel(u:'float[:]', un:'float[:]', nt:'int', nx:'int', dt:'float', dx:'float'):\n",
        "\n",
        "    for n in range(nt):\n",
        "      for i in range(nx):\n",
        "        un[i] = u[i]\n",
        "      for i in range(1, nx):\n",
        "        u[i] = un[i] - un[i] * dt / dx * (un[i] - un[i-1])\n",
        "    return 0"
      ],
      "execution_count": 61,
      "outputs": []
    },
    {
      "cell_type": "markdown",
      "metadata": {
        "id": "F7RTZpOy3dij"
      },
      "source": [
        "## Inputs"
      ]
    },
    {
      "cell_type": "code",
      "metadata": {
        "id": "6waVVRRX3dik",
        "outputId": "59bcfb25-9b5a-4a6a-d99e-d4eae22e4754",
        "colab": {
          "base_uri": "https://localhost:8080/",
          "height": 312
        }
      },
      "source": [
        "nx = 201  # try changing this number from 41 to 81 and Run All ... what happens?\n",
        "dx = 2 / (nx-1)\n",
        "nt = 500    #nt is the number of timesteps we want to calculate\n",
        "dt = 0.001\n",
        "grid = np.linspace(0,2,nx) # creating the space grid    \n",
        "\n",
        "u0 = np.ones(nx)      #numpy function ones()\n",
        "u0[int(.5 / dx):int(1 / dx + 1)] = 2  #setting u = 2 between 0.5 and 1 as per our I.C.s\n",
        "plt.plot(grid,u0)\n",
        "u = u0.copy()\n",
        "un = np.ones(nx)\n",
        "\n",
        "solve_1d_nonlinearconv_pure(u, un, nt, nx, dt, dx)\n",
        "#Plotting data\n",
        "plt.plot(grid,u);\n",
        "plt.ylim([1.,2.2])\n",
        "plt.xlabel('X')\n",
        "plt.ylabel('Velocity')    \n",
        "plt.title('1D Linear Convection')"
      ],
      "execution_count": 64,
      "outputs": [
        {
          "output_type": "execute_result",
          "data": {
            "text/plain": [
              "Text(0.5, 1.0, '1D Linear Convection')"
            ]
          },
          "metadata": {
            "tags": []
          },
          "execution_count": 64
        },
        {
          "output_type": "display_data",
          "data": {
            "image/png": "[encoded data removed]",
            "text/plain": [
              "<Figure size 432x288 with 1 Axes>"
            ]
          },
          "metadata": {
            "tags": [],
            "needs_background": "light"
          }
        }
      ]
    },
    {
      "cell_type": "markdown",
      "metadata": {
        "id": "JwSlKnrA3dim"
      },
      "source": [
        "## Call Funtions"
      ]
    },
    {
      "cell_type": "markdown",
      "metadata": {
        "id": "pC-swSt03dit"
      },
      "source": [
        "### Pure function"
      ]
    },
    {
      "cell_type": "code",
      "metadata": {
        "id": "A4ivAeKH3diu",
        "outputId": "c3520f10-2ac8-4f84-ba6a-073de1ca33f5",
        "colab": {
          "base_uri": "https://localhost:8080/"
        }
      },
      "source": [
        "%timeit solve_1d_nonlinearconv_pure(u, un, nt, nx, dt, dx)"
      ],
      "execution_count": 65,
      "outputs": [
        {
          "output_type": "stream",
          "text": [
            "10 loops, best of 5: 126 ms per loop\n"
          ],
          "name": "stdout"
        }
      ]
    },
    {
      "cell_type": "markdown",
      "metadata": {
        "id": "6u64IvXL3div"
      },
      "source": [
        "### Function with numba accelerator"
      ]
    },
    {
      "cell_type": "code",
      "metadata": {
        "id": "cK2Y1W4a3div",
        "outputId": "7d2c6f4c-2d96-438f-9cdc-eb4390356269",
        "colab": {
          "base_uri": "https://localhost:8080/"
        }
      },
      "source": [
        "%timeit solve_1d_nonlinearconv_numba(u, un, nt, nx, dt, dx)"
      ],
      "execution_count": 66,
      "outputs": [
        {
          "output_type": "stream",
          "text": [
            "The slowest run took 13159.26 times longer than the fastest. This could mean that an intermediate result is being cached.\n",
            "1 loop, best of 5: 28.9 µs per loop\n"
          ],
          "name": "stdout"
        }
      ]
    },
    {
      "cell_type": "markdown",
      "metadata": {
        "id": "dThDgiRq3dix"
      },
      "source": [
        "### Function with pyccel accelerator"
      ]
    },
    {
      "cell_type": "code",
      "metadata": {
        "id": "_Si3SwYC3diz"
      },
      "source": [
        "solve_1d_nonlinearconv_f90 = epyccel(solve_1d_nonlinearconv_pyccel)"
      ],
      "execution_count": 67,
      "outputs": []
    },
    {
      "cell_type": "code",
      "metadata": {
        "id": "35Cg22fP3diz",
        "outputId": "6efc8053-ebc1-4131-8ebd-408920aa51f3",
        "colab": {
          "base_uri": "https://localhost:8080/"
        }
      },
      "source": [
        "%timeit solve_1d_nonlinearconv_f90(u, un, nt, nx, dt, dx)"
      ],
      "execution_count": 68,
      "outputs": [
        {
          "output_type": "stream",
          "text": [
            "10000 loops, best of 5: 149 µs per loop\n"
          ],
          "name": "stdout"
        }
      ]
    }
  ]
}