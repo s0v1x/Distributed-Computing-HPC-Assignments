{
  "nbformat": 4,
  "nbformat_minor": 0,
  "metadata": {
    "kernelspec": {
      "display_name": "Python 3",
      "language": "python",
      "name": "python3"
    },
    "language_info": {
      "codemirror_mode": {
        "name": "ipython",
        "version": 3
      },
      "file_extension": ".py",
      "mimetype": "text/x-python",
      "name": "python",
      "nbconvert_exporter": "python",
      "pygments_lexer": "ipython3",
      "version": "3.7.4"
    },
    "colab": {
      "name": "1D_LinearDiffusion.ipynb",
      "provenance": []
    }
  },
  "cells": [
    {
      "cell_type": "markdown",
      "metadata": {
        "id": "VGN71NAYwvFD"
      },
      "source": [
        "## Imports"
      ]
    },
    {
      "cell_type": "code",
      "metadata": {
        "id": "vSYGxID1xDL1",
        "outputId": "d492dac3-1c09-4cd0-e892-aaa8c1f8a730",
        "colab": {
          "base_uri": "https://localhost:8080/"
        }
      },
      "source": [
        "!pip install pyccel"
      ],
      "execution_count": 1,
      "outputs": [
        {
          "output_type": "stream",
          "text": [
            "Collecting pyccel\n",
            "\u001b[?25l  Downloading https://files.pythonhosted.org/packages/9d/0d/c3d5fd4e81c17c9f2b7b5723d5bfc67b01ec03d1e416bb3a49812033289e/pyccel-1.2.1-py3-none-any.whl (273kB)\n",
            "\u001b[K     |████████████████████████████████| 276kB 4.4MB/s \n",
            "\u001b[?25hCollecting textx>=1.6\n",
            "\u001b[?25l  Downloading https://files.pythonhosted.org/packages/1e/4d/ca516d5600744166c3e1d2f8ff8d2483cda7193c37c534710cbe073c6d44/textX-2.3.0-py2.py3-none-any.whl (72kB)\n",
            "\u001b[K     |████████████████████████████████| 81kB 5.1MB/s \n",
            "\u001b[?25hRequirement already satisfied: sympy>=1.2 in /usr/local/lib/python3.7/dist-packages (from pyccel) (1.7.1)\n",
            "Requirement already satisfied: termcolor in /usr/local/lib/python3.7/dist-packages (from pyccel) (1.1.0)\n",
            "Requirement already satisfied: numpy in /usr/local/lib/python3.7/dist-packages (from pyccel) (1.19.5)\n",
            "Collecting Arpeggio>=1.9.0\n",
            "\u001b[?25l  Downloading https://files.pythonhosted.org/packages/23/53/17533fe707ee55f562138bfa5255427fa44728f5764fd95cd122fe20346b/Arpeggio-1.10.1-py2.py3-none-any.whl (54kB)\n",
            "\u001b[K     |████████████████████████████████| 61kB 3.8MB/s \n",
            "\u001b[?25hRequirement already satisfied: mpmath>=0.19 in /usr/local/lib/python3.7/dist-packages (from sympy>=1.2->pyccel) (1.2.1)\n",
            "Installing collected packages: Arpeggio, textx, pyccel\n",
            "Successfully installed Arpeggio-1.10.1 pyccel-1.2.1 textx-2.3.0\n"
          ],
          "name": "stdout"
        }
      ]
    },
    {
      "cell_type": "code",
      "metadata": {
        "id": "hIy26EhswvFQ"
      },
      "source": [
        "import numpy as np\n",
        "import matplotlib.pyplot as plt\n",
        "import time\n",
        "\n",
        "from numba import njit\n",
        "from pyccel.epyccel import epyccel\n",
        "from pyccel.decorators import types"
      ],
      "execution_count": 2,
      "outputs": []
    },
    {
      "cell_type": "markdown",
      "metadata": {
        "id": "0hOYRYd-wvFR"
      },
      "source": [
        "## Pure python function"
      ]
    },
    {
      "cell_type": "code",
      "metadata": {
        "id": "kiLOXEYPwvFS"
      },
      "source": [
        "def solve_1d_diff_pure(u, un, nt, nx, dt, dx, nu):\n",
        "    \n",
        "    for n in range(nt):\n",
        "      for i in range(nx):\n",
        "        un[i] = u[i]\n",
        "      for i in range(1, nx-1):\n",
        "        u[i] = un[i] + nu * dt / dx**2 * (un[i+1] - 2 * un[i] + un[i-1])    \n",
        "    return 0"
      ],
      "execution_count": 3,
      "outputs": []
    },
    {
      "cell_type": "markdown",
      "metadata": {
        "id": "A6oPtBwAwvFU"
      },
      "source": [
        "## Numba accelerator"
      ]
    },
    {
      "cell_type": "code",
      "metadata": {
        "id": "DuE8X4cQwvFW"
      },
      "source": [
        "@njit(fastmath=True)\n",
        "def solve_1d_diff_numba(u, un, nt, nx, dt, dx, nu):\n",
        "    for n in range(nt):\n",
        "      for i in range(nx):\n",
        "        un[i] = u[i]\n",
        "      for i in range(1, nx-1):\n",
        "        u[i] = un[i] + nu * dt / dx**2 * (un[i+1] - 2 * un[i] + un[i-1])    \n",
        "    return 0"
      ],
      "execution_count": 4,
      "outputs": []
    },
    {
      "cell_type": "markdown",
      "metadata": {
        "id": "4m6ADg5-wvFZ"
      },
      "source": [
        "## Pyccel accelerator"
      ]
    },
    {
      "cell_type": "code",
      "metadata": {
        "id": "s91_ZLQkwvFZ"
      },
      "source": [
        "def solve_1d_diff_pyccel(u : 'float[:]', un : 'float[:]', nt : 'int', nx : 'int', dt : 'float', dx : 'float', nu : 'float'):\n",
        "    \n",
        "    for n in range(nt):\n",
        "      for i in range(nx):\n",
        "        un[i] = u[i]\n",
        "      for i in range(1, nx-1):\n",
        "        u[i] = un[i] + nu * dt / dx**2 * (un[i+1] - 2 * un[i] + un[i-1])    \n",
        "    return 0"
      ],
      "execution_count": 5,
      "outputs": []
    },
    {
      "cell_type": "markdown",
      "metadata": {
        "id": "T7_o__eswvFa"
      },
      "source": [
        "## Inputs"
      ]
    },
    {
      "cell_type": "code",
      "metadata": {
        "id": "SZD59wCFwvFe",
        "outputId": "d88bc033-e191-4cfe-aa87-d127bb31a097",
        "colab": {
          "base_uri": "https://localhost:8080/",
          "height": 312
        }
      },
      "source": [
        "nx = 501\n",
        "dx = 2 / (nx - 1) \n",
        "nt = 3500    #the number of timesteps we want to calculate\n",
        "nu = 0.3   #the value of viscosity\n",
        "CFL = .5 #sigma is a parameter, we'll learn more about it later\n",
        "dt = CFL * dx**2 / nu #dt is defined using sigma ... more later!\n",
        "grid = np.linspace(0,2,nx) # creating the space grid\n",
        "\n",
        "u0 = np.ones(nx)      #a numpy array with nx elements all equal to 1.\n",
        "u0[int(.5 / dx):int(1 / dx + 1)] = 2  #setting u = 2 between 0.5 and 1 as per our I.C.s\n",
        "plt.plot(grid,u0);\n",
        "u = u0.copy()\n",
        "un = np.ones(nx) #our placeholder array, un, to advance the solution in time\n",
        "\n",
        "solve_1d_diff_pure(u, un, nt, nx, dt, dx, nu)\n",
        "#Plotting data\n",
        "plt.plot(grid,u);\n",
        "plt.ylim([1.,2.2])\n",
        "plt.xlabel('X')\n",
        "plt.ylabel('Velocity')    \n",
        "plt.title('1D Diffusion') "
      ],
      "execution_count": 6,
      "outputs": [
        {
          "output_type": "execute_result",
          "data": {
            "text/plain": [
              "Text(0.5, 1.0, '1D Diffusion')"
            ]
          },
          "metadata": {
            "tags": []
          },
          "execution_count": 6
        },
        {
          "output_type": "display_data",
          "data": {
            "image/png": "[encoded data removed]",
            "text/plain": [
              "<Figure size 432x288 with 1 Axes>"
            ]
          },
          "metadata": {
            "tags": [],
            "needs_background": "light"
          }
        }
      ]
    },
    {
      "cell_type": "markdown",
      "metadata": {
        "id": "TBPHiCpnwvFi"
      },
      "source": [
        "## Call Funtions"
      ]
    },
    {
      "cell_type": "markdown",
      "metadata": {
        "id": "WL2PnkSmwvFk"
      },
      "source": [
        "### Pure function"
      ]
    },
    {
      "cell_type": "code",
      "metadata": {
        "id": "SWGnF55nwvFk",
        "outputId": "30cfb7a1-9422-437f-ec35-8b4aae52b98c",
        "colab": {
          "base_uri": "https://localhost:8080/"
        }
      },
      "source": [
        "%timeit solve_1d_diff_pure(u, un, nt, nx, dt, dx, nu)"
      ],
      "execution_count": 7,
      "outputs": [
        {
          "output_type": "stream",
          "text": [
            "1 loop, best of 5: 3.03 s per loop\n"
          ],
          "name": "stdout"
        }
      ]
    },
    {
      "cell_type": "markdown",
      "metadata": {
        "id": "lroRcFZZwvFl"
      },
      "source": [
        "### Function with numba accelerator"
      ]
    },
    {
      "cell_type": "code",
      "metadata": {
        "id": "AfFWKIGpwvFm",
        "outputId": "f11930fc-e055-474b-c6cd-b975333a3c01",
        "colab": {
          "base_uri": "https://localhost:8080/"
        }
      },
      "source": [
        "%timeit solve_1d_diff_numba(u, un, nt, nx, dt, dx, nu)"
      ],
      "execution_count": 8,
      "outputs": [
        {
          "output_type": "stream",
          "text": [
            "The slowest run took 980.17 times longer than the fastest. This could mean that an intermediate result is being cached.\n",
            "1 loop, best of 5: 725 µs per loop\n"
          ],
          "name": "stdout"
        }
      ]
    },
    {
      "cell_type": "markdown",
      "metadata": {
        "id": "eN1Xd_GqwvFo"
      },
      "source": [
        "### Function with pyccel accelerator"
      ]
    },
    {
      "cell_type": "code",
      "metadata": {
        "id": "IfP5uIuWwvFp"
      },
      "source": [
        "solve_1d_diff_f90 = epyccel(solve_1d_diff_pyccel)"
      ],
      "execution_count": 9,
      "outputs": []
    },
    {
      "cell_type": "code",
      "metadata": {
        "id": "KLv3KAhwwvFp",
        "outputId": "f8f265f3-d5c9-4624-a390-730da8f7fb58",
        "colab": {
          "base_uri": "https://localhost:8080/"
        }
      },
      "source": [
        "%timeit solve_1d_diff_f90(u, un, nt, nx, dt, dx, nu)"
      ],
      "execution_count": 10,
      "outputs": [
        {
          "output_type": "stream",
          "text": [
            "100 loops, best of 5: 2.91 ms per loop\n"
          ],
          "name": "stdout"
        }
      ]
    }
  ]
}