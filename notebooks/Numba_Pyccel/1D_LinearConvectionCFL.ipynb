{
  "nbformat": 4,
  "nbformat_minor": 0,
  "metadata": {
    "kernelspec": {
      "display_name": "Python 3",
      "language": "python",
      "name": "python3"
    },
    "language_info": {
      "codemirror_mode": {
        "name": "ipython",
        "version": 3
      },
      "file_extension": ".py",
      "mimetype": "text/x-python",
      "name": "python",
      "nbconvert_exporter": "python",
      "pygments_lexer": "ipython3",
      "version": "3.7.4"
    },
    "colab": {
      "name": "1D_LinearConvectionCFL.ipynb",
      "provenance": []
    }
  },
  "cells": [
    {
      "cell_type": "markdown",
      "metadata": {
        "id": "mlLDmwIXt-02"
      },
      "source": [
        "## Imports"
      ]
    },
    {
      "cell_type": "code",
      "metadata": {
        "id": "06x4LxIUt-0_"
      },
      "source": [
        "import numpy as np\n",
        "import matplotlib.pyplot as plt"
      ],
      "execution_count": 1,
      "outputs": []
    },
    {
      "cell_type": "markdown",
      "metadata": {
        "id": "9ytjDBiRt-1B"
      },
      "source": [
        "## Linear convection without CFL"
      ]
    },
    {
      "cell_type": "code",
      "metadata": {
        "id": "WQtQNZO8t-1E"
      },
      "source": [
        "def linearconv_withoutCFL(u, nx, nt, dx):\n",
        "    dt = .025  \n",
        "    c = 1.\n",
        "\n",
        "    for n in range(nt):\n",
        "      un = u.copy()\n",
        "      for i in range(1, nx):\n",
        "        u[i] = u[i] - c*dt / dx * (un[i] - un[i-1])\n",
        "    return 0"
      ],
      "execution_count": 2,
      "outputs": []
    },
    {
      "cell_type": "markdown",
      "metadata": {
        "id": "oUvMBNaUt-1F"
      },
      "source": [
        "## Linear convection with CFL"
      ]
    },
    {
      "cell_type": "code",
      "metadata": {
        "id": "dFd20-6Ct-1F"
      },
      "source": [
        "def linearconv_withCFL(u, nx, nt, dx):\n",
        "    c = 1.\n",
        "    CFL = 0.8\n",
        "    dt = CFL*dx/np.fabs(c) \n",
        "    for n in range(nt):\n",
        "      un = u.copy()\n",
        "      for i in range(1, nx):\n",
        "        u[i] = u[i] - c*dt / dx * (un[i] - un[i-1])\n",
        "    return 0"
      ],
      "execution_count": 3,
      "outputs": []
    },
    {
      "cell_type": "markdown",
      "metadata": {
        "id": "MVpHzmVUt-1G"
      },
      "source": [
        "## Inputs"
      ]
    },
    {
      "cell_type": "code",
      "metadata": {
        "id": "RhUsp0rjt-1I"
      },
      "source": [
        "nx = 200 #change to 83, 85, 91, ... what do you remark ?\n",
        "dx = 2 / (nx - 1)\n",
        "nt = 20    \n",
        "\n",
        "grid = np.linspace(0,2,nx) \n",
        "u0 = np.ones(nx)      \n",
        "u0[int(.5/dx):int(1 / dx + 1)] = 2  "
      ],
      "execution_count": 7,
      "outputs": []
    },
    {
      "cell_type": "markdown",
      "metadata": {
        "id": "IrcwHvkZt-1J"
      },
      "source": [
        "## Call Funtions"
      ]
    },
    {
      "cell_type": "markdown",
      "metadata": {
        "id": "HPl3r_fft-1K"
      },
      "source": [
        "### Function without CFL"
      ]
    },
    {
      "cell_type": "code",
      "metadata": {
        "id": "v7flDT84t-1M",
        "outputId": "c76c7110-5f59-4cab-fa77-550601d481af",
        "colab": {
          "base_uri": "https://localhost:8080/",
          "height": 312
        }
      },
      "source": [
        "u = u0.copy()\n",
        "linearconv_withoutCFL(u, nx, nt, dx)\n",
        "\n",
        "plt.plot(grid,u0);\n",
        "plt.plot(grid,u);\n",
        "plt.ylim([1.,2.2])\n",
        "plt.xlabel('X')\n",
        "plt.ylabel('Velocity')    \n",
        "plt.title('1D Linear Convection')  "
      ],
      "execution_count": 8,
      "outputs": [
        {
          "output_type": "execute_result",
          "data": {
            "text/plain": [
              "Text(0.5, 1.0, '1D Linear Convection')"
            ]
          },
          "metadata": {
            "tags": []
          },
          "execution_count": 8
        },
        {
          "output_type": "display_data",
          "data": {
            "image/png": "[encoded data removed]",
            "text/plain": [
              "<Figure size 432x288 with 1 Axes>"
            ]
          },
          "metadata": {
            "tags": [],
            "needs_background": "light"
          }
        }
      ]
    },
    {
      "cell_type": "markdown",
      "metadata": {
        "id": "d7lQoUumt-1Q"
      },
      "source": [
        "### Function with CFL"
      ]
    },
    {
      "cell_type": "code",
      "metadata": {
        "id": "8zM1mcLwt-1R",
        "outputId": "5272c118-7a87-4fa0-f388-2dd2c890d092",
        "colab": {
          "base_uri": "https://localhost:8080/",
          "height": 312
        }
      },
      "source": [
        "u = u0.copy()\n",
        "linearconv_withCFL(u, nx, nt, dx)\n",
        "\n",
        "plt.plot(grid,u0);\n",
        "plt.plot(grid,u);\n",
        "plt.ylim([1.,2.2])\n",
        "plt.xlabel('X')\n",
        "plt.ylabel('Velocity')    \n",
        "plt.title('1D Linear Convection') "
      ],
      "execution_count": 9,
      "outputs": [
        {
          "output_type": "execute_result",
          "data": {
            "text/plain": [
              "Text(0.5, 1.0, '1D Linear Convection')"
            ]
          },
          "metadata": {
            "tags": []
          },
          "execution_count": 9
        },
        {
          "output_type": "display_data",
          "data": {
            "image/png": "[encoded data removed]",
            "text/plain": [
              "<Figure size 432x288 with 1 Axes>"
            ]
          },
          "metadata": {
            "tags": [],
            "needs_background": "light"
          }
        }
      ]
    }
  ]
}