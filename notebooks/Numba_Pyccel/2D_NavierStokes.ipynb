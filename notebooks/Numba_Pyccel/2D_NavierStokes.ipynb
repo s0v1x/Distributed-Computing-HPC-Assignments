{
 "cells": [
  {
   "cell_type": "markdown",
   "metadata": {},
   "source": [
    "## <font color='blue'>  Fait par : CHAIMAA ELALAMI:MSD1 </font>"
   ]
  },
  {
   "cell_type": "markdown",
   "metadata": {},
   "source": [
    "## Imports"
   ]
  },
  {
   "cell_type": "code",
   "execution_count": 8,
   "metadata": {},
   "outputs": [],
   "source": [
    "import numpy as np\n",
    "from matplotlib import pyplot, cm\n",
    "from mpl_toolkits.mplot3d import Axes3D\n",
    "from numba import njit\n",
    "import time"
   ]
  },
  {
   "cell_type": "markdown",
   "metadata": {},
   "source": [
    "##  Navier Stokes Equation"
   ]
  },
  {
   "cell_type": "markdown",
   "metadata": {},
   "source": [
    "## Pure python"
   ]
  },
  {
   "cell_type": "code",
   "execution_count": 11,
   "metadata": {},
   "outputs": [],
   "source": [
    "def build_up_b_numba(b, rho, dt, u, v, dx, dy):\n",
    "    row, col = p.shape\n",
    "    for j in range(2,row):\n",
    "            for i in range(2,col):\n",
    "                b[j-1, i-1]=(rho*(1/dt*((u[j-1,i]-u[]))))\n",
    "                \n",
    "        \n",
    "   \n",
    "\n",
    "    return b\n",
    "\n",
    "def pressure_poisson_numba(p, dx, dy, b):\n",
    "    pn = np.empty_like(p)\n",
    "    pn = np.copy()\n",
    "    #fill the update of p\n",
    "    for q in range(nt):\n",
    "        pn = np.copy()\n",
    "        row,col=p.shape\n",
    "        \n",
    "        for j in range(2,row):\n",
    "            for i in range(2,col):\n",
    "                p[j-1,i-1]= (((pn[j-1, i] + pn[j-1, i-2]) * dy**2 +\n",
    "                                (pn[j, i-1] + pn[j-2, i-1]) * dx**2 /\n",
    "                                (2*(dx**2+dy**2))-\n",
    "                                dx**2 * dy**2/(2 * (dx**2 + dy**2))*\n",
    "                                b[j-1, i-1])\n",
    "                                \n",
    "        p[:, -1] =  p[:, -2]\n",
    "        p[0, :] = p[1,:]\n",
    "        p[:, 0] = p[:,1]\n",
    "        p[-1,:] =0 \n",
    "            \n",
    "        \n",
    "   \n",
    "    return p\n",
    "\n",
    "def cavity_flow_numba(nt, u, v, dt, nx, ny, dx, dy, p, rho, nu):\n",
    "    un = np.empty_like(u)\n",
    "    vn = np.empty_like(v)\n",
    "    b = np.zeros((ny, nx))\n",
    "    \n",
    "    pn = np.empty_like(p)\n",
    "    pn = p.copy()\n",
    "    \n",
    "    #fill the update of u and v\n",
    "        \n",
    "        \n",
    "    return u, v, p"
   ]
  },
  {
   "cell_type": "markdown",
   "metadata": {},
   "source": [
    "## Numba accelerator"
   ]
  },
  {
   "cell_type": "code",
   "execution_count": 12,
   "metadata": {},
   "outputs": [],
   "source": [
    "def build_up_b_pure(b, rho, dt, u, v, dx, dy):\n",
    "    row, col = p.shape\n",
    "        \n",
    "        \n",
    "    #fill the update of b\n",
    "\n",
    "    return b\n",
    "\n",
    "def pressure_poisson_pure(p, dx, dy, b):\n",
    "    pn = np.empty_like(p)\n",
    "    pn = np.copy()\n",
    "    \n",
    "    #fill the update of p\n",
    "        \n",
    "    return p\n",
    "\n",
    "def cavity_flow_pure(nt, u, v, dt, nx, ny, dx, dy, p, rho, nu):\n",
    "    un = np.empty_like(u)\n",
    "    vn = np.empty_like(v)\n",
    "    b = np.zeros((ny, nx))\n",
    "    \n",
    "    pn = np.empty_like(p)\n",
    "    pn = p.copy()\n",
    "        \n",
    "        \n",
    "    return u, v, p"
   ]
  },
  {
   "cell_type": "markdown",
   "metadata": {},
   "source": [
    "## Inputs"
   ]
  },
  {
   "cell_type": "code",
   "execution_count": 14,
   "metadata": {
    "scrolled": true
   },
   "outputs": [
    {
     "data": {
      "image/png": "[encoded data removed]",
      "text/plain": [
       "<Figure size 500x300 with 2 Axes>"
      ]
     },
     "metadata": {
      "needs_background": "light"
     },
     "output_type": "display_data"
    }
   ],
   "source": [
    "nx = 41\n",
    "ny = 41\n",
    "nt = 500\n",
    "nit = 50\n",
    "c = 1\n",
    "dx = 2 / (nx - 1)\n",
    "dy = 2 / (ny - 1)\n",
    "x = np.linspace(0, 2, nx)\n",
    "y = np.linspace(0, 2, ny)\n",
    "X, Y = np.meshgrid(x, y)\n",
    "\n",
    "rho = 1\n",
    "nu = .1\n",
    "dt = .001\n",
    "\n",
    "u = np.zeros((ny, nx))\n",
    "v = np.zeros((ny, nx))\n",
    "p = np.zeros((ny, nx)) \n",
    "b = np.zeros((ny, nx))\n",
    "\n",
    "u, v, p = cavity_flow_numba(nt, u, v, dt, nx, ny, dx, dy, p, rho, nu)\n",
    "\n",
    "fig = pyplot.figure(figsize=(5, 3), dpi=100)\n",
    "pyplot.contourf(X, Y, p, alpha=0.5, cmap=cm.viridis)\n",
    "pyplot.colorbar()\n",
    "pyplot.contour(X, Y, p, cmap=cm.viridis)\n",
    "pyplot.quiver(X[::2, ::2], Y[::2, ::2], u[::2, ::2], v[::2, ::2])\n",
    "pyplot.xlabel('X')\n",
    "pyplot.ylabel('Y');"
   ]
  },
  {
   "cell_type": "code",
   "execution_count": 15,
   "metadata": {},
   "outputs": [
    {
     "data": {
      "image/png": "[encoded data removed]",
      "text/plain": [
       "<Figure size 500x300 with 2 Axes>"
      ]
     },
     "metadata": {
      "needs_background": "light"
     },
     "output_type": "display_data"
    }
   ],
   "source": [
    "fig = pyplot.figure(figsize=(5, 3), dpi=100)\n",
    "pyplot.contourf(X, Y, p, alpha=0.5, cmap=cm.viridis)\n",
    "pyplot.colorbar()\n",
    "pyplot.contour(X, Y, p, cmap=cm.viridis)\n",
    "pyplot.streamplot(X, Y, u, v)\n",
    "pyplot.xlabel('X')\n",
    "pyplot.ylabel('Y');"
   ]
  },
  {
   "cell_type": "markdown",
   "metadata": {},
   "source": [
    "## Call Funtions"
   ]
  },
  {
   "cell_type": "markdown",
   "metadata": {},
   "source": [
    "## Pure python function"
   ]
  },
  {
   "cell_type": "code",
   "execution_count": 37,
   "metadata": {},
   "outputs": [
    {
     "name": "stdout",
     "output_type": "stream",
     "text": [
      "125 ms ± 245 µs per loop (mean ± std. dev. of 7 runs, 10 loops each)\n"
     ]
    }
   ],
   "source": [
    "%timeit cavity_flow_pure(nt, u, v, dt, ny, ny, dx, dy, p, rho, nu)"
   ]
  },
  {
   "cell_type": "markdown",
   "metadata": {},
   "source": [
    "## Numba accelerator"
   ]
  },
  {
   "cell_type": "code",
   "execution_count": 34,
   "metadata": {},
   "outputs": [
    {
     "name": "stdout",
     "output_type": "stream",
     "text": [
      "125 ms ± 581 µs per loop (mean ± std. dev. of 7 runs, 10 loops each)\n"
     ]
    }
   ],
   "source": [
    "%timeit cavity_flow_numba(nt, u, v, dt, ny, ny, dx, dy, p, rho, nu)"
   ]
  }
 ],
 "metadata": {
  "kernelspec": {
   "display_name": "Python 3",
   "language": "python",
   "name": "python3"
  },
  "language_info": {
   "codemirror_mode": {
    "name": "ipython",
    "version": 3
   },
   "file_extension": ".py",
   "mimetype": "text/x-python",
   "name": "python",
   "nbconvert_exporter": "python",
   "pygments_lexer": "ipython3",
   "version": "3.8.5"
  }
 },
 "nbformat": 4,
 "nbformat_minor": 2
}
