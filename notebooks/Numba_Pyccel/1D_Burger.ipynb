{
  "nbformat": 4,
  "nbformat_minor": 0,
  "metadata": {
    "kernelspec": {
      "display_name": "Python 3",
      "language": "python",
      "name": "python3"
    },
    "language_info": {
      "codemirror_mode": {
        "name": "ipython",
        "version": 3
      },
      "file_extension": ".py",
      "mimetype": "text/x-python",
      "name": "python",
      "nbconvert_exporter": "python",
      "pygments_lexer": "ipython3",
      "version": "3.7.4"
    },
    "colab": {
      "name": "1D_Burger.ipynb",
      "provenance": []
    }
  },
  "cells": [
    {
      "cell_type": "markdown",
      "metadata": {
        "id": "6XMMu7bHAy3c"
      },
      "source": [
        "## Imports"
      ]
    },
    {
      "cell_type": "code",
      "metadata": {
        "id": "bSPq7I9gBCGV",
        "outputId": "002bac1d-d0d9-49c5-8d10-b05981131333",
        "colab": {
          "base_uri": "https://localhost:8080/"
        }
      },
      "source": [
        "!pip install pyccel"
      ],
      "execution_count": 2,
      "outputs": [
        {
          "output_type": "stream",
          "text": [
            "Collecting pyccel\n",
            "\u001b[?25l  Downloading https://files.pythonhosted.org/packages/9d/0d/c3d5fd4e81c17c9f2b7b5723d5bfc67b01ec03d1e416bb3a49812033289e/pyccel-1.2.1-py3-none-any.whl (273kB)\n",
            "\r\u001b[K     |█▏                              | 10kB 16.5MB/s eta 0:00:01\r\u001b[K     |██▍                             | 20kB 17.4MB/s eta 0:00:01\r\u001b[K     |███▋                            | 30kB 11.2MB/s eta 0:00:01\r\u001b[K     |████▉                           | 40kB 8.3MB/s eta 0:00:01\r\u001b[K     |██████                          | 51kB 4.3MB/s eta 0:00:01\r\u001b[K     |███████▏                        | 61kB 4.5MB/s eta 0:00:01\r\u001b[K     |████████▍                       | 71kB 5.0MB/s eta 0:00:01\r\u001b[K     |█████████▋                      | 81kB 5.4MB/s eta 0:00:01\r\u001b[K     |██████████▉                     | 92kB 5.7MB/s eta 0:00:01\r\u001b[K     |████████████                    | 102kB 5.9MB/s eta 0:00:01\r\u001b[K     |█████████████▏                  | 112kB 5.9MB/s eta 0:00:01\r\u001b[K     |██████████████▍                 | 122kB 5.9MB/s eta 0:00:01\r\u001b[K     |███████████████▋                | 133kB 5.9MB/s eta 0:00:01\r\u001b[K     |████████████████▉               | 143kB 5.9MB/s eta 0:00:01\r\u001b[K     |██████████████████              | 153kB 5.9MB/s eta 0:00:01\r\u001b[K     |███████████████████▏            | 163kB 5.9MB/s eta 0:00:01\r\u001b[K     |████████████████████▍           | 174kB 5.9MB/s eta 0:00:01\r\u001b[K     |█████████████████████▋          | 184kB 5.9MB/s eta 0:00:01\r\u001b[K     |██████████████████████▊         | 194kB 5.9MB/s eta 0:00:01\r\u001b[K     |████████████████████████        | 204kB 5.9MB/s eta 0:00:01\r\u001b[K     |█████████████████████████▏      | 215kB 5.9MB/s eta 0:00:01\r\u001b[K     |██████████████████████████▍     | 225kB 5.9MB/s eta 0:00:01\r\u001b[K     |███████████████████████████▋    | 235kB 5.9MB/s eta 0:00:01\r\u001b[K     |████████████████████████████▊   | 245kB 5.9MB/s eta 0:00:01\r\u001b[K     |██████████████████████████████  | 256kB 5.9MB/s eta 0:00:01\r\u001b[K     |███████████████████████████████▏| 266kB 5.9MB/s eta 0:00:01\r\u001b[K     |████████████████████████████████| 276kB 5.9MB/s \n",
            "\u001b[?25hRequirement already satisfied: termcolor in /usr/local/lib/python3.7/dist-packages (from pyccel) (1.1.0)\n",
            "Requirement already satisfied: sympy>=1.2 in /usr/local/lib/python3.7/dist-packages (from pyccel) (1.7.1)\n",
            "Requirement already satisfied: numpy in /usr/local/lib/python3.7/dist-packages (from pyccel) (1.19.5)\n",
            "Collecting textx>=1.6\n",
            "\u001b[?25l  Downloading https://files.pythonhosted.org/packages/1e/4d/ca516d5600744166c3e1d2f8ff8d2483cda7193c37c534710cbe073c6d44/textX-2.3.0-py2.py3-none-any.whl (72kB)\n",
            "\u001b[K     |████████████████████████████████| 81kB 8.1MB/s \n",
            "\u001b[?25hRequirement already satisfied: mpmath>=0.19 in /usr/local/lib/python3.7/dist-packages (from sympy>=1.2->pyccel) (1.2.1)\n",
            "Collecting Arpeggio>=1.9.0\n",
            "\u001b[?25l  Downloading https://files.pythonhosted.org/packages/23/53/17533fe707ee55f562138bfa5255427fa44728f5764fd95cd122fe20346b/Arpeggio-1.10.1-py2.py3-none-any.whl (54kB)\n",
            "\u001b[K     |████████████████████████████████| 61kB 7.2MB/s \n",
            "\u001b[?25hInstalling collected packages: Arpeggio, textx, pyccel\n",
            "Successfully installed Arpeggio-1.10.1 pyccel-1.2.1 textx-2.3.0\n"
          ],
          "name": "stdout"
        }
      ]
    },
    {
      "cell_type": "code",
      "metadata": {
        "id": "ik6x_CQDAy3g"
      },
      "source": [
        "import numpy as np\n",
        "import sympy as sp\n",
        "from sympy.utilities.lambdify import lambdify\n",
        "\n",
        "from sympy import init_printing\n",
        "init_printing(use_latex=True)\n",
        "import matplotlib.pyplot as plt\n",
        "\n",
        "from numba import njit\n",
        "from pyccel.epyccel import epyccel\n",
        "from pyccel.decorators import types"
      ],
      "execution_count": 3,
      "outputs": []
    },
    {
      "cell_type": "markdown",
      "metadata": {
        "id": "CoBG33nGAy3j"
      },
      "source": [
        "## Pure python function"
      ]
    },
    {
      "cell_type": "code",
      "metadata": {
        "id": "OybZCBukAy3l"
      },
      "source": [
        "def solve_1d_burger_pure(u, un, nt, nx, dt, dx, nu):\n",
        "    for n in range(nt):\n",
        "      un[:] = u[:]\n",
        "      for i in range(1,nx-1):\n",
        "        u[i] = un[i] - un[i] * dt / dx *(un[i] - un[i-1]) + nu * dt / dx**2 *\\\n",
        "        (un[i+1] - 2 * un[i] + un[i-1])         \n",
        "\n",
        "        u[0] = un[0] - un[0] * dt / dx * (un[0] - un[-2]) + nu * dt / dx**2 *\\\n",
        "        (un[1] - 2 * un[0] + un[-2])\n",
        "        \n",
        "        u[-1] = u[0] \n",
        "        \n",
        "    return 0"
      ],
      "execution_count": 4,
      "outputs": []
    },
    {
      "cell_type": "markdown",
      "metadata": {
        "id": "qmnku6F-Ay3n"
      },
      "source": [
        "## Numba accelerator"
      ]
    },
    {
      "cell_type": "code",
      "metadata": {
        "id": "c5Y8NoTnAy3o"
      },
      "source": [
        "@njit(fastmath=True)\n",
        "def solve_1d_burger_numba(u, un, nt, nx, dt, dx, nu):\n",
        "    for n in range(nt):\n",
        "      un[:] = u[:]\n",
        "      for i in range(1,nx-1):\n",
        "        u[i] = un[i] - un[i] * dt / dx *(un[i] - un[i-1]) + nu * dt / dx**2 *\\\n",
        "        (un[i+1] - 2 * un[i] + un[i-1])         \n",
        "\n",
        "        u[0] = un[0] - un[0] * dt / dx * (un[0] - un[-2]) + nu * dt / dx**2 *\\\n",
        "        (un[1] - 2 * un[0] + un[-2])\n",
        "        \n",
        "        u[-1] = u[0] \n",
        "        \n",
        "    return 0"
      ],
      "execution_count": 5,
      "outputs": []
    },
    {
      "cell_type": "markdown",
      "metadata": {
        "id": "DesDFJecAy3r"
      },
      "source": [
        "## Pyccel accelerator"
      ]
    },
    {
      "cell_type": "code",
      "metadata": {
        "id": "UjEqpQoYAy3s"
      },
      "source": [
        "#add the pyccel decorator to accelerate code\n",
        "def solve_1d_burger_pyccel(u:'float[:]', un:'float[:]', nt:'int', nx:'int', dt:'float', dx:'float', nu:'float'):\n",
        "    for n in range(nt):\n",
        "      un[:] = u[:]\n",
        "      for i in range(1,nx-1):\n",
        "        u[i] = un[i] - un[i] * dt / dx *(un[i] - un[i-1]) + nu * dt / dx**2 *\\\n",
        "        (un[i+1] - 2 * un[i] + un[i-1])         \n",
        "\n",
        "        u[0] = un[0] - un[0] * dt / dx * (un[0] - un[-2]) + nu * dt / dx**2 *\\\n",
        "        (un[1] - 2 * un[0] + un[-2])\n",
        "        \n",
        "        u[-1] = u[0] \n",
        "        \n",
        "    return 0"
      ],
      "execution_count": 6,
      "outputs": []
    },
    {
      "cell_type": "markdown",
      "metadata": {
        "id": "FOqpxBpZAy3u"
      },
      "source": [
        "## Inputs"
      ]
    },
    {
      "cell_type": "code",
      "metadata": {
        "id": "DHSUPIz5Ay3w"
      },
      "source": [
        "#sympy computation\n",
        "x, nu, t = sp.symbols('x nu t')\n",
        "phi = (sp.exp(-(x - 4 * t)**2 / (4 * nu * (t + 1))) +\n",
        "       sp.exp(-(x - 4 * t - 2 * sp.pi)**2 / (4 * nu * (t + 1))))\n",
        "\n",
        "phiprime = phi.diff(x)\n",
        "u = -2 * nu * (phiprime / phi) + 4\n",
        "ufunc = lambdify((t, x, nu), u)"
      ],
      "execution_count": 7,
      "outputs": []
    },
    {
      "cell_type": "code",
      "metadata": {
        "id": "f-_UU6JjAy3x"
      },
      "source": [
        "###variable declarations\n",
        "nx = 201\n",
        "nt = 100\n",
        "dx = 2 * np.pi / (nx - 1)\n",
        "nu = .07\n",
        "dt = dx * nu\n",
        "\n",
        "x = np.linspace(0, 2 * np.pi, nx)\n",
        "un = np.empty(nx)\n",
        "t = 0"
      ],
      "execution_count": 8,
      "outputs": []
    },
    {
      "cell_type": "markdown",
      "metadata": {
        "id": "ZCgfq5rPAy30"
      },
      "source": [
        "## Plot initial condition"
      ]
    },
    {
      "cell_type": "code",
      "metadata": {
        "id": "gDlE7GW7Ay32",
        "outputId": "fcee148f-277b-4ede-f9f5-ebe3275c6a9e",
        "colab": {
          "base_uri": "https://localhost:8080/",
          "height": 269
        }
      },
      "source": [
        "u = np.asarray([ufunc(t, x0, nu) for x0 in x])\n",
        "plt.figure()\n",
        "plt.plot(x, u, marker='o', lw=2)\n",
        "plt.xlim([0, 2 * np.pi])\n",
        "plt.ylim([0, 10]);"
      ],
      "execution_count": 9,
      "outputs": [
        {
          "output_type": "display_data",
          "data": {
            "image/png": "[encoded data removed]",
            "text/plain": [
              "<Figure size 432x288 with 1 Axes>"
            ]
          },
          "metadata": {
            "tags": [],
            "needs_background": "light"
          }
        }
      ]
    },
    {
      "cell_type": "code",
      "metadata": {
        "id": "W3ffCriSAy35",
        "outputId": "bda7df80-c734-42b9-9113-5a45dc96392a",
        "colab": {
          "base_uri": "https://localhost:8080/",
          "height": 269
        }
      },
      "source": [
        "solve_1d_burger_pure(u, un, nt, nx, dt, dx, nu)\n",
        "\n",
        "# Analytical solution\n",
        "u_analytical = np.asarray([ufunc(nt * dt, xi, nu) for xi in x])\n",
        "\n",
        "\n",
        "#Plotting data\n",
        "plt.figure()\n",
        "plt.plot(x,u, marker='o', lw=2, label='Computational')\n",
        "plt.plot(x, u_analytical, label='Analytical')\n",
        "plt.xlim([0, 2 * np.pi])\n",
        "plt.ylim([0, 10])\n",
        "plt.legend();"
      ],
      "execution_count": 10,
      "outputs": [
        {
          "output_type": "display_data",
          "data": {
            "image/png": "[encoded data removed]",
            "text/plain": [
              "<Figure size 432x288 with 1 Axes>"
            ]
          },
          "metadata": {
            "tags": [],
            "needs_background": "light"
          }
        }
      ]
    },
    {
      "cell_type": "markdown",
      "metadata": {
        "id": "MEgLk2GlAy37"
      },
      "source": [
        "## Call Funtions"
      ]
    },
    {
      "cell_type": "markdown",
      "metadata": {
        "id": "BVvUGj2cAy38"
      },
      "source": [
        "### Pure function"
      ]
    },
    {
      "cell_type": "code",
      "metadata": {
        "id": "bOycTVQxAy39",
        "outputId": "f208b380-9162-41b6-a07a-15de228ecc27",
        "colab": {
          "base_uri": "https://localhost:8080/"
        }
      },
      "source": [
        "%timeit solve_1d_burger_pure(u, un, nt, nx, dt, dx, nu)"
      ],
      "execution_count": 11,
      "outputs": [
        {
          "output_type": "stream",
          "text": [
            "10 loops, best of 5: 111 ms per loop\n"
          ],
          "name": "stdout"
        }
      ]
    },
    {
      "cell_type": "markdown",
      "metadata": {
        "id": "2tljgKD_Ay3-"
      },
      "source": [
        "### Function with numba accelerator"
      ]
    },
    {
      "cell_type": "code",
      "metadata": {
        "id": "zu1zczhSAy3-",
        "outputId": "910a0f85-f4e0-400f-83fb-8abf75813731",
        "colab": {
          "base_uri": "https://localhost:8080/"
        }
      },
      "source": [
        "%timeit solve_1d_burger_numba(u, un, nt, nx, dt, dx, nu)"
      ],
      "execution_count": 12,
      "outputs": [
        {
          "output_type": "stream",
          "text": [
            "The slowest run took 5861.34 times longer than the fastest. This could mean that an intermediate result is being cached.\n",
            "1 loop, best of 5: 96.6 µs per loop\n"
          ],
          "name": "stdout"
        }
      ]
    },
    {
      "cell_type": "markdown",
      "metadata": {
        "id": "ThdI92qbAy3_"
      },
      "source": [
        "### Function with pyccel accelerator"
      ]
    },
    {
      "cell_type": "code",
      "metadata": {
        "id": "ACdWWAijAy4A",
        "outputId": "68491884-cddb-431c-f189-a95b7dbe399d",
        "colab": {
          "base_uri": "https://localhost:8080/"
        }
      },
      "source": [
        "solve_1d_burger_f90 = epyccel(solve_1d_burger_pyccel)\n",
        "%timeit solve_1d_burger_f90(u, un, nt, nx, dt, dx, nu)"
      ],
      "execution_count": 13,
      "outputs": [
        {
          "output_type": "stream",
          "text": [
            "10000 loops, best of 5: 64.3 µs per loop\n"
          ],
          "name": "stdout"
        }
      ]
    }
  ]
}